{
 "cells": [
  {
   "cell_type": "code",
   "execution_count": 1,
   "id": "264b9cd9",
   "metadata": {},
   "outputs": [],
   "source": [
    "import pandas as pd"
   ]
  },
  {
   "cell_type": "code",
   "execution_count": 2,
   "id": "f9fbf9aa",
   "metadata": {},
   "outputs": [
    {
     "data": {
      "text/html": [
       "<div>\n",
       "<style scoped>\n",
       "    .dataframe tbody tr th:only-of-type {\n",
       "        vertical-align: middle;\n",
       "    }\n",
       "\n",
       "    .dataframe tbody tr th {\n",
       "        vertical-align: top;\n",
       "    }\n",
       "\n",
       "    .dataframe thead th {\n",
       "        text-align: right;\n",
       "    }\n",
       "</style>\n",
       "<table border=\"1\" class=\"dataframe\">\n",
       "  <thead>\n",
       "    <tr style=\"text-align: right;\">\n",
       "      <th></th>\n",
       "      <th>name</th>\n",
       "      <th>prc</th>\n",
       "      <th>old</th>\n",
       "      <th>bdg 2</th>\n",
       "      <th>rev</th>\n",
       "      <th>stars</th>\n",
       "    </tr>\n",
       "  </thead>\n",
       "  <tbody>\n",
       "    <tr>\n",
       "      <th>0</th>\n",
       "      <td>Amtec AM-017-2.1 Speaker System 3000WATTS PMPO...</td>\n",
       "      <td>KSh 2,697</td>\n",
       "      <td>KSh 3,236</td>\n",
       "      <td>17%</td>\n",
       "      <td>(196)</td>\n",
       "      <td>3.8 out of 5</td>\n",
       "    </tr>\n",
       "    <tr>\n",
       "      <th>1</th>\n",
       "      <td>Amtec AM-03 2.1ch HI-FI Multimedia Speaker Sys...</td>\n",
       "      <td>KSh 5,281</td>\n",
       "      <td>KSh 6,607</td>\n",
       "      <td>20%</td>\n",
       "      <td>(80)</td>\n",
       "      <td>3.8 out of 5</td>\n",
       "    </tr>\n",
       "    <tr>\n",
       "      <th>2</th>\n",
       "      <td>Vitron V635 3.1CH Multimedia Speaker System - ...</td>\n",
       "      <td>KSh 5,169</td>\n",
       "      <td>KSh 6,203</td>\n",
       "      <td>17%</td>\n",
       "      <td>(483)</td>\n",
       "      <td>4.1 out of 5</td>\n",
       "    </tr>\n",
       "    <tr>\n",
       "      <th>3</th>\n",
       "      <td>WK 07 2.1CH HOME THEATER SPEAKER SYSTEM - 3000...</td>\n",
       "      <td>KSh 3,034</td>\n",
       "      <td>KSh 3,641</td>\n",
       "      <td>17%</td>\n",
       "      <td>(56)</td>\n",
       "      <td>3.8 out of 5</td>\n",
       "    </tr>\n",
       "    <tr>\n",
       "      <th>4</th>\n",
       "      <td>Amtec AM-109 Woofer System, Bluetooth,USB Oran...</td>\n",
       "      <td>KSh 2,921</td>\n",
       "      <td>KSh 3,505</td>\n",
       "      <td>17%</td>\n",
       "      <td>(151)</td>\n",
       "      <td>3.9 out of 5</td>\n",
       "    </tr>\n",
       "  </tbody>\n",
       "</table>\n",
       "</div>"
      ],
      "text/plain": [
       "                                                name        prc        old  \\\n",
       "0  Amtec AM-017-2.1 Speaker System 3000WATTS PMPO...  KSh 2,697  KSh 3,236   \n",
       "1  Amtec AM-03 2.1ch HI-FI Multimedia Speaker Sys...  KSh 5,281  KSh 6,607   \n",
       "2  Vitron V635 3.1CH Multimedia Speaker System - ...  KSh 5,169  KSh 6,203   \n",
       "3  WK 07 2.1CH HOME THEATER SPEAKER SYSTEM - 3000...  KSh 3,034  KSh 3,641   \n",
       "4  Amtec AM-109 Woofer System, Bluetooth,USB Oran...  KSh 2,921  KSh 3,505   \n",
       "\n",
       "  bdg 2    rev         stars  \n",
       "0   17%  (196)  3.8 out of 5  \n",
       "1   20%   (80)  3.8 out of 5  \n",
       "2   17%  (483)  4.1 out of 5  \n",
       "3   17%   (56)  3.8 out of 5  \n",
       "4   17%  (151)  3.9 out of 5  "
      ]
     },
     "execution_count": 2,
     "metadata": {},
     "output_type": "execute_result"
    }
   ],
   "source": [
    "df = pd.read_csv('jumia.csv')\n",
    "df.head()"
   ]
  },
  {
   "cell_type": "code",
   "execution_count": 3,
   "id": "90d1d9e4",
   "metadata": {},
   "outputs": [
    {
     "data": {
      "text/html": [
       "<div>\n",
       "<style scoped>\n",
       "    .dataframe tbody tr th:only-of-type {\n",
       "        vertical-align: middle;\n",
       "    }\n",
       "\n",
       "    .dataframe tbody tr th {\n",
       "        vertical-align: top;\n",
       "    }\n",
       "\n",
       "    .dataframe thead th {\n",
       "        text-align: right;\n",
       "    }\n",
       "</style>\n",
       "<table border=\"1\" class=\"dataframe\">\n",
       "  <thead>\n",
       "    <tr style=\"text-align: right;\">\n",
       "      <th></th>\n",
       "      <th>name</th>\n",
       "      <th>prc</th>\n",
       "      <th>old</th>\n",
       "      <th>bdg 2</th>\n",
       "      <th>rev</th>\n",
       "      <th>stars</th>\n",
       "    </tr>\n",
       "  </thead>\n",
       "  <tbody>\n",
       "    <tr>\n",
       "      <th>38</th>\n",
       "      <td>Vitron Soundbar System 6000W PMPO</td>\n",
       "      <td>KSh 5,545</td>\n",
       "      <td>KSh 7,500</td>\n",
       "      <td>26%</td>\n",
       "      <td>(10)</td>\n",
       "      <td>4.4 out of 5</td>\n",
       "    </tr>\n",
       "    <tr>\n",
       "      <th>39</th>\n",
       "      <td>Amtec  2.1 CH MULTIMEDIA SPEAKER SYSTEM-BT/FM/...</td>\n",
       "      <td>KSh 6,374</td>\n",
       "      <td>KSh 7,500</td>\n",
       "      <td>15%</td>\n",
       "      <td>(28)</td>\n",
       "      <td>4.4 out of 5</td>\n",
       "    </tr>\n",
       "    <tr>\n",
       "      <th>40</th>\n",
       "      <td>Amtec AM -011 Sub Woofer Bluetooth,FM,USB-</td>\n",
       "      <td>KSh 5,000</td>\n",
       "      <td>KSh 6,000</td>\n",
       "      <td>NaN</td>\n",
       "      <td>NaN</td>\n",
       "      <td>NaN</td>\n",
       "    </tr>\n",
       "    <tr>\n",
       "      <th>41</th>\n",
       "      <td>Amtec Multimedia Speaker BT/USB/SD/FM - 12000W...</td>\n",
       "      <td>KSh 5,500</td>\n",
       "      <td>KSh 6,500</td>\n",
       "      <td>NaN</td>\n",
       "      <td>NaN</td>\n",
       "      <td>NaN</td>\n",
       "    </tr>\n",
       "    <tr>\n",
       "      <th>42</th>\n",
       "      <td>Skyworth SS531 - 3.1CH 510W Dolby Audio Soundb...</td>\n",
       "      <td>KSh 19,999</td>\n",
       "      <td>KSh 22,999</td>\n",
       "      <td>Official Store</td>\n",
       "      <td>NaN</td>\n",
       "      <td>NaN</td>\n",
       "    </tr>\n",
       "  </tbody>\n",
       "</table>\n",
       "</div>"
      ],
      "text/plain": [
       "                                                 name         prc         old  \\\n",
       "38                  Vitron Soundbar System 6000W PMPO   KSh 5,545   KSh 7,500   \n",
       "39  Amtec  2.1 CH MULTIMEDIA SPEAKER SYSTEM-BT/FM/...   KSh 6,374   KSh 7,500   \n",
       "40         Amtec AM -011 Sub Woofer Bluetooth,FM,USB-   KSh 5,000   KSh 6,000   \n",
       "41  Amtec Multimedia Speaker BT/USB/SD/FM - 12000W...   KSh 5,500   KSh 6,500   \n",
       "42  Skyworth SS531 - 3.1CH 510W Dolby Audio Soundb...  KSh 19,999  KSh 22,999   \n",
       "\n",
       "             bdg 2   rev         stars  \n",
       "38             26%  (10)  4.4 out of 5  \n",
       "39             15%  (28)  4.4 out of 5  \n",
       "40             NaN   NaN           NaN  \n",
       "41             NaN   NaN           NaN  \n",
       "42  Official Store   NaN           NaN  "
      ]
     },
     "execution_count": 3,
     "metadata": {},
     "output_type": "execute_result"
    }
   ],
   "source": [
    "df.tail()"
   ]
  },
  {
   "cell_type": "code",
   "execution_count": null,
   "id": "67e59391",
   "metadata": {},
   "outputs": [
    {
     "name": "stdout",
     "output_type": "stream",
     "text": [
      "<class 'pandas.core.frame.DataFrame'>\n",
      "RangeIndex: 43 entries, 0 to 42\n",
      "Data columns (total 6 columns):\n",
      " #   Column  Non-Null Count  Dtype \n",
      "---  ------  --------------  ----- \n",
      " 0   name    43 non-null     object\n",
      " 1   prc     43 non-null     object\n",
      " 2   old     40 non-null     object\n",
      " 3   bdg 2   38 non-null     object\n",
      " 4   rev     39 non-null     object\n",
      " 5   stars   39 non-null     object\n",
      "dtypes: object(6)\n",
      "memory usage: 2.1+ KB\n"
     ]
    }
   ],
   "source": [
    "\n",
    "df.info() "
   ]
  },
  {
   "cell_type": "code",
   "execution_count": 5,
   "id": "a1916cd6",
   "metadata": {},
   "outputs": [],
   "source": [
    "#renaming the columns names \n",
    "df.columns = ['Product Name', 'Current Price', 'Original Price', 'Discount', 'Reviews', 'Rating']"
   ]
  },
  {
   "cell_type": "code",
   "execution_count": 6,
   "id": "5b4b58b6",
   "metadata": {},
   "outputs": [
    {
     "data": {
      "text/html": [
       "<div>\n",
       "<style scoped>\n",
       "    .dataframe tbody tr th:only-of-type {\n",
       "        vertical-align: middle;\n",
       "    }\n",
       "\n",
       "    .dataframe tbody tr th {\n",
       "        vertical-align: top;\n",
       "    }\n",
       "\n",
       "    .dataframe thead th {\n",
       "        text-align: right;\n",
       "    }\n",
       "</style>\n",
       "<table border=\"1\" class=\"dataframe\">\n",
       "  <thead>\n",
       "    <tr style=\"text-align: right;\">\n",
       "      <th></th>\n",
       "      <th>Product Name</th>\n",
       "      <th>Current Price</th>\n",
       "      <th>Original Price</th>\n",
       "      <th>Discount</th>\n",
       "      <th>Reviews</th>\n",
       "      <th>Rating</th>\n",
       "    </tr>\n",
       "  </thead>\n",
       "  <tbody>\n",
       "    <tr>\n",
       "      <th>0</th>\n",
       "      <td>Amtec AM-017-2.1 Speaker System 3000WATTS PMPO...</td>\n",
       "      <td>KSh 2,697</td>\n",
       "      <td>KSh 3,236</td>\n",
       "      <td>17%</td>\n",
       "      <td>(196)</td>\n",
       "      <td>3.8 out of 5</td>\n",
       "    </tr>\n",
       "    <tr>\n",
       "      <th>1</th>\n",
       "      <td>Amtec AM-03 2.1ch HI-FI Multimedia Speaker Sys...</td>\n",
       "      <td>KSh 5,281</td>\n",
       "      <td>KSh 6,607</td>\n",
       "      <td>20%</td>\n",
       "      <td>(80)</td>\n",
       "      <td>3.8 out of 5</td>\n",
       "    </tr>\n",
       "    <tr>\n",
       "      <th>2</th>\n",
       "      <td>Vitron V635 3.1CH Multimedia Speaker System - ...</td>\n",
       "      <td>KSh 5,169</td>\n",
       "      <td>KSh 6,203</td>\n",
       "      <td>17%</td>\n",
       "      <td>(483)</td>\n",
       "      <td>4.1 out of 5</td>\n",
       "    </tr>\n",
       "    <tr>\n",
       "      <th>3</th>\n",
       "      <td>WK 07 2.1CH HOME THEATER SPEAKER SYSTEM - 3000...</td>\n",
       "      <td>KSh 3,034</td>\n",
       "      <td>KSh 3,641</td>\n",
       "      <td>17%</td>\n",
       "      <td>(56)</td>\n",
       "      <td>3.8 out of 5</td>\n",
       "    </tr>\n",
       "    <tr>\n",
       "      <th>4</th>\n",
       "      <td>Amtec AM-109 Woofer System, Bluetooth,USB Oran...</td>\n",
       "      <td>KSh 2,921</td>\n",
       "      <td>KSh 3,505</td>\n",
       "      <td>17%</td>\n",
       "      <td>(151)</td>\n",
       "      <td>3.9 out of 5</td>\n",
       "    </tr>\n",
       "  </tbody>\n",
       "</table>\n",
       "</div>"
      ],
      "text/plain": [
       "                                        Product Name Current Price  \\\n",
       "0  Amtec AM-017-2.1 Speaker System 3000WATTS PMPO...     KSh 2,697   \n",
       "1  Amtec AM-03 2.1ch HI-FI Multimedia Speaker Sys...     KSh 5,281   \n",
       "2  Vitron V635 3.1CH Multimedia Speaker System - ...     KSh 5,169   \n",
       "3  WK 07 2.1CH HOME THEATER SPEAKER SYSTEM - 3000...     KSh 3,034   \n",
       "4  Amtec AM-109 Woofer System, Bluetooth,USB Oran...     KSh 2,921   \n",
       "\n",
       "  Original Price Discount Reviews        Rating  \n",
       "0      KSh 3,236      17%   (196)  3.8 out of 5  \n",
       "1      KSh 6,607      20%    (80)  3.8 out of 5  \n",
       "2      KSh 6,203      17%   (483)  4.1 out of 5  \n",
       "3      KSh 3,641      17%    (56)  3.8 out of 5  \n",
       "4      KSh 3,505      17%   (151)  3.9 out of 5  "
      ]
     },
     "execution_count": 6,
     "metadata": {},
     "output_type": "execute_result"
    }
   ],
   "source": [
    "df.head()"
   ]
  },
  {
   "cell_type": "code",
   "execution_count": 7,
   "id": "3053c78c",
   "metadata": {},
   "outputs": [],
   "source": [
    "# removing the \"KSH\" from the price columns and also the commas\n",
    "df['Current Price'] = df['Current Price'].str.replace('KSh ', '').str.replace(',', '')\n",
    "df['Original Price'] = df['Original Price'].str.replace('KSh ', '').str.replace(',', '')"
   ]
  },
  {
   "cell_type": "code",
   "execution_count": 8,
   "id": "9f31d2f5",
   "metadata": {},
   "outputs": [],
   "source": [
    "#converting the price columns to numeric\n",
    "df['Current Price'] = pd.to_numeric(df['Current Price'])\n",
    "df['Original Price'] = pd.to_numeric(df['Original Price'])"
   ]
  },
  {
   "cell_type": "code",
   "execution_count": 9,
   "id": "98e1b84e",
   "metadata": {},
   "outputs": [
    {
     "data": {
      "text/html": [
       "<div>\n",
       "<style scoped>\n",
       "    .dataframe tbody tr th:only-of-type {\n",
       "        vertical-align: middle;\n",
       "    }\n",
       "\n",
       "    .dataframe tbody tr th {\n",
       "        vertical-align: top;\n",
       "    }\n",
       "\n",
       "    .dataframe thead th {\n",
       "        text-align: right;\n",
       "    }\n",
       "</style>\n",
       "<table border=\"1\" class=\"dataframe\">\n",
       "  <thead>\n",
       "    <tr style=\"text-align: right;\">\n",
       "      <th></th>\n",
       "      <th>Product Name</th>\n",
       "      <th>Current Price</th>\n",
       "      <th>Original Price</th>\n",
       "      <th>Discount</th>\n",
       "      <th>Reviews</th>\n",
       "      <th>Rating</th>\n",
       "    </tr>\n",
       "  </thead>\n",
       "  <tbody>\n",
       "    <tr>\n",
       "      <th>0</th>\n",
       "      <td>Amtec AM-017-2.1 Speaker System 3000WATTS PMPO...</td>\n",
       "      <td>2697</td>\n",
       "      <td>3236.0</td>\n",
       "      <td>17%</td>\n",
       "      <td>(196)</td>\n",
       "      <td>3.8 out of 5</td>\n",
       "    </tr>\n",
       "    <tr>\n",
       "      <th>1</th>\n",
       "      <td>Amtec AM-03 2.1ch HI-FI Multimedia Speaker Sys...</td>\n",
       "      <td>5281</td>\n",
       "      <td>6607.0</td>\n",
       "      <td>20%</td>\n",
       "      <td>(80)</td>\n",
       "      <td>3.8 out of 5</td>\n",
       "    </tr>\n",
       "    <tr>\n",
       "      <th>2</th>\n",
       "      <td>Vitron V635 3.1CH Multimedia Speaker System - ...</td>\n",
       "      <td>5169</td>\n",
       "      <td>6203.0</td>\n",
       "      <td>17%</td>\n",
       "      <td>(483)</td>\n",
       "      <td>4.1 out of 5</td>\n",
       "    </tr>\n",
       "    <tr>\n",
       "      <th>3</th>\n",
       "      <td>WK 07 2.1CH HOME THEATER SPEAKER SYSTEM - 3000...</td>\n",
       "      <td>3034</td>\n",
       "      <td>3641.0</td>\n",
       "      <td>17%</td>\n",
       "      <td>(56)</td>\n",
       "      <td>3.8 out of 5</td>\n",
       "    </tr>\n",
       "    <tr>\n",
       "      <th>4</th>\n",
       "      <td>Amtec AM-109 Woofer System, Bluetooth,USB Oran...</td>\n",
       "      <td>2921</td>\n",
       "      <td>3505.0</td>\n",
       "      <td>17%</td>\n",
       "      <td>(151)</td>\n",
       "      <td>3.9 out of 5</td>\n",
       "    </tr>\n",
       "  </tbody>\n",
       "</table>\n",
       "</div>"
      ],
      "text/plain": [
       "                                        Product Name  Current Price  \\\n",
       "0  Amtec AM-017-2.1 Speaker System 3000WATTS PMPO...           2697   \n",
       "1  Amtec AM-03 2.1ch HI-FI Multimedia Speaker Sys...           5281   \n",
       "2  Vitron V635 3.1CH Multimedia Speaker System - ...           5169   \n",
       "3  WK 07 2.1CH HOME THEATER SPEAKER SYSTEM - 3000...           3034   \n",
       "4  Amtec AM-109 Woofer System, Bluetooth,USB Oran...           2921   \n",
       "\n",
       "   Original Price Discount Reviews        Rating  \n",
       "0          3236.0      17%   (196)  3.8 out of 5  \n",
       "1          6607.0      20%    (80)  3.8 out of 5  \n",
       "2          6203.0      17%   (483)  4.1 out of 5  \n",
       "3          3641.0      17%    (56)  3.8 out of 5  \n",
       "4          3505.0      17%   (151)  3.9 out of 5  "
      ]
     },
     "execution_count": 9,
     "metadata": {},
     "output_type": "execute_result"
    }
   ],
   "source": [
    "df.head()"
   ]
  },
  {
   "cell_type": "code",
   "execution_count": null,
   "id": "26bd5bcd",
   "metadata": {},
   "outputs": [],
   "source": [
    "#removing the % from the discount column\n",
    "#Replace non-percentage entries (e.g., \"Official Store\") with NaN\n",
    "df['Discount'] = df['Discount'].replace('[^0-9%]', '', regex=True)"
   ]
  },
  {
   "cell_type": "code",
   "execution_count": null,
   "id": "437c0d05",
   "metadata": {},
   "outputs": [],
   "source": [
    "# Remove '%' and convert to numeric\n",
    "df['Discount'] = pd.to_numeric(df['Discount'].str.replace('%', ''), errors='coerce')"
   ]
  },
  {
   "cell_type": "code",
   "execution_count": null,
   "id": "7cb3bcd6",
   "metadata": {},
   "outputs": [],
   "source": [
    "# Fill NaN with 0 \n",
    "df['Discount'] = df['Discount'].fillna(0).astype(int)"
   ]
  },
  {
   "cell_type": "code",
   "execution_count": 15,
   "id": "12492fe3",
   "metadata": {},
   "outputs": [
    {
     "data": {
      "text/html": [
       "<div>\n",
       "<style scoped>\n",
       "    .dataframe tbody tr th:only-of-type {\n",
       "        vertical-align: middle;\n",
       "    }\n",
       "\n",
       "    .dataframe tbody tr th {\n",
       "        vertical-align: top;\n",
       "    }\n",
       "\n",
       "    .dataframe thead th {\n",
       "        text-align: right;\n",
       "    }\n",
       "</style>\n",
       "<table border=\"1\" class=\"dataframe\">\n",
       "  <thead>\n",
       "    <tr style=\"text-align: right;\">\n",
       "      <th></th>\n",
       "      <th>Product Name</th>\n",
       "      <th>Current Price</th>\n",
       "      <th>Original Price</th>\n",
       "      <th>Discount</th>\n",
       "      <th>Reviews</th>\n",
       "      <th>Rating</th>\n",
       "    </tr>\n",
       "  </thead>\n",
       "  <tbody>\n",
       "    <tr>\n",
       "      <th>0</th>\n",
       "      <td>Amtec AM-017-2.1 Speaker System 3000WATTS PMPO...</td>\n",
       "      <td>2697</td>\n",
       "      <td>3236.0</td>\n",
       "      <td>17</td>\n",
       "      <td>(196)</td>\n",
       "      <td>3.8 out of 5</td>\n",
       "    </tr>\n",
       "    <tr>\n",
       "      <th>1</th>\n",
       "      <td>Amtec AM-03 2.1ch HI-FI Multimedia Speaker Sys...</td>\n",
       "      <td>5281</td>\n",
       "      <td>6607.0</td>\n",
       "      <td>20</td>\n",
       "      <td>(80)</td>\n",
       "      <td>3.8 out of 5</td>\n",
       "    </tr>\n",
       "    <tr>\n",
       "      <th>2</th>\n",
       "      <td>Vitron V635 3.1CH Multimedia Speaker System - ...</td>\n",
       "      <td>5169</td>\n",
       "      <td>6203.0</td>\n",
       "      <td>17</td>\n",
       "      <td>(483)</td>\n",
       "      <td>4.1 out of 5</td>\n",
       "    </tr>\n",
       "    <tr>\n",
       "      <th>3</th>\n",
       "      <td>WK 07 2.1CH HOME THEATER SPEAKER SYSTEM - 3000...</td>\n",
       "      <td>3034</td>\n",
       "      <td>3641.0</td>\n",
       "      <td>17</td>\n",
       "      <td>(56)</td>\n",
       "      <td>3.8 out of 5</td>\n",
       "    </tr>\n",
       "    <tr>\n",
       "      <th>4</th>\n",
       "      <td>Amtec AM-109 Woofer System, Bluetooth,USB Oran...</td>\n",
       "      <td>2921</td>\n",
       "      <td>3505.0</td>\n",
       "      <td>17</td>\n",
       "      <td>(151)</td>\n",
       "      <td>3.9 out of 5</td>\n",
       "    </tr>\n",
       "  </tbody>\n",
       "</table>\n",
       "</div>"
      ],
      "text/plain": [
       "                                        Product Name  Current Price  \\\n",
       "0  Amtec AM-017-2.1 Speaker System 3000WATTS PMPO...           2697   \n",
       "1  Amtec AM-03 2.1ch HI-FI Multimedia Speaker Sys...           5281   \n",
       "2  Vitron V635 3.1CH Multimedia Speaker System - ...           5169   \n",
       "3  WK 07 2.1CH HOME THEATER SPEAKER SYSTEM - 3000...           3034   \n",
       "4  Amtec AM-109 Woofer System, Bluetooth,USB Oran...           2921   \n",
       "\n",
       "   Original Price  Discount Reviews        Rating  \n",
       "0          3236.0        17   (196)  3.8 out of 5  \n",
       "1          6607.0        20    (80)  3.8 out of 5  \n",
       "2          6203.0        17   (483)  4.1 out of 5  \n",
       "3          3641.0        17    (56)  3.8 out of 5  \n",
       "4          3505.0        17   (151)  3.9 out of 5  "
      ]
     },
     "execution_count": 15,
     "metadata": {},
     "output_type": "execute_result"
    }
   ],
   "source": [
    "df.head()"
   ]
  },
  {
   "cell_type": "code",
   "execution_count": null,
   "id": "769c36b5",
   "metadata": {},
   "outputs": [],
   "source": [
    "# remove \"out of 5\" from the Rating column and convert it to a numeric value (float)\n",
    "df['Rating'] = df['Rating'].str.replace(' out of 5', '').astype(float)"
   ]
  },
  {
   "cell_type": "code",
   "execution_count": 17,
   "id": "6d4446be",
   "metadata": {},
   "outputs": [
    {
     "data": {
      "text/html": [
       "<div>\n",
       "<style scoped>\n",
       "    .dataframe tbody tr th:only-of-type {\n",
       "        vertical-align: middle;\n",
       "    }\n",
       "\n",
       "    .dataframe tbody tr th {\n",
       "        vertical-align: top;\n",
       "    }\n",
       "\n",
       "    .dataframe thead th {\n",
       "        text-align: right;\n",
       "    }\n",
       "</style>\n",
       "<table border=\"1\" class=\"dataframe\">\n",
       "  <thead>\n",
       "    <tr style=\"text-align: right;\">\n",
       "      <th></th>\n",
       "      <th>Product Name</th>\n",
       "      <th>Current Price</th>\n",
       "      <th>Original Price</th>\n",
       "      <th>Discount</th>\n",
       "      <th>Reviews</th>\n",
       "      <th>Rating</th>\n",
       "    </tr>\n",
       "  </thead>\n",
       "  <tbody>\n",
       "    <tr>\n",
       "      <th>0</th>\n",
       "      <td>Amtec AM-017-2.1 Speaker System 3000WATTS PMPO...</td>\n",
       "      <td>2697</td>\n",
       "      <td>3236.0</td>\n",
       "      <td>17</td>\n",
       "      <td>(196)</td>\n",
       "      <td>3.8</td>\n",
       "    </tr>\n",
       "    <tr>\n",
       "      <th>1</th>\n",
       "      <td>Amtec AM-03 2.1ch HI-FI Multimedia Speaker Sys...</td>\n",
       "      <td>5281</td>\n",
       "      <td>6607.0</td>\n",
       "      <td>20</td>\n",
       "      <td>(80)</td>\n",
       "      <td>3.8</td>\n",
       "    </tr>\n",
       "    <tr>\n",
       "      <th>2</th>\n",
       "      <td>Vitron V635 3.1CH Multimedia Speaker System - ...</td>\n",
       "      <td>5169</td>\n",
       "      <td>6203.0</td>\n",
       "      <td>17</td>\n",
       "      <td>(483)</td>\n",
       "      <td>4.1</td>\n",
       "    </tr>\n",
       "    <tr>\n",
       "      <th>3</th>\n",
       "      <td>WK 07 2.1CH HOME THEATER SPEAKER SYSTEM - 3000...</td>\n",
       "      <td>3034</td>\n",
       "      <td>3641.0</td>\n",
       "      <td>17</td>\n",
       "      <td>(56)</td>\n",
       "      <td>3.8</td>\n",
       "    </tr>\n",
       "    <tr>\n",
       "      <th>4</th>\n",
       "      <td>Amtec AM-109 Woofer System, Bluetooth,USB Oran...</td>\n",
       "      <td>2921</td>\n",
       "      <td>3505.0</td>\n",
       "      <td>17</td>\n",
       "      <td>(151)</td>\n",
       "      <td>3.9</td>\n",
       "    </tr>\n",
       "  </tbody>\n",
       "</table>\n",
       "</div>"
      ],
      "text/plain": [
       "                                        Product Name  Current Price  \\\n",
       "0  Amtec AM-017-2.1 Speaker System 3000WATTS PMPO...           2697   \n",
       "1  Amtec AM-03 2.1ch HI-FI Multimedia Speaker Sys...           5281   \n",
       "2  Vitron V635 3.1CH Multimedia Speaker System - ...           5169   \n",
       "3  WK 07 2.1CH HOME THEATER SPEAKER SYSTEM - 3000...           3034   \n",
       "4  Amtec AM-109 Woofer System, Bluetooth,USB Oran...           2921   \n",
       "\n",
       "   Original Price  Discount Reviews  Rating  \n",
       "0          3236.0        17   (196)     3.8  \n",
       "1          6607.0        20    (80)     3.8  \n",
       "2          6203.0        17   (483)     4.1  \n",
       "3          3641.0        17    (56)     3.8  \n",
       "4          3505.0        17   (151)     3.9  "
      ]
     },
     "execution_count": 17,
     "metadata": {},
     "output_type": "execute_result"
    }
   ],
   "source": [
    "df.head()"
   ]
  },
  {
   "cell_type": "code",
   "execution_count": null,
   "id": "502f4fca",
   "metadata": {},
   "outputs": [
    {
     "name": "stdout",
     "output_type": "stream",
     "text": [
      "Number of duplicates: 0\n",
      "Empty DataFrame\n",
      "Columns: [Product Name, Current Price, Original Price, Discount, Reviews, Rating]\n",
      "Index: []\n"
     ]
    }
   ],
   "source": [
    "#checking duplicates\n",
    "duplicates = df.duplicated()\n",
    "print(\"Number of duplicates:\", duplicates.sum())\n",
    "\n",
    "print(df[duplicates])"
   ]
  },
  {
   "cell_type": "code",
   "execution_count": 20,
   "id": "0a9d1b63",
   "metadata": {},
   "outputs": [
    {
     "name": "stdout",
     "output_type": "stream",
     "text": [
      "Null values per column:\n",
      " Product Name      0\n",
      "Current Price     0\n",
      "Original Price    3\n",
      "Discount          0\n",
      "Reviews           4\n",
      "Rating            4\n",
      "dtype: int64\n"
     ]
    }
   ],
   "source": [
    "#check for nulls\n",
    "null_counts = df.isnull().sum()\n",
    "print(\"Null values per column:\\n\", null_counts)"
   ]
  },
  {
   "cell_type": "code",
   "execution_count": 21,
   "id": "6c375e99",
   "metadata": {},
   "outputs": [],
   "source": [
    "#cleaning the nulls\n",
    "df_cleaned = df.dropna()"
   ]
  },
  {
   "cell_type": "code",
   "execution_count": 22,
   "id": "7aea43bc",
   "metadata": {},
   "outputs": [
    {
     "name": "stdout",
     "output_type": "stream",
     "text": [
      "Null values per column:\n",
      " Product Name      0\n",
      "Current Price     0\n",
      "Original Price    0\n",
      "Discount          0\n",
      "Reviews           0\n",
      "Rating            0\n",
      "dtype: int64\n"
     ]
    }
   ],
   "source": [
    "null_counts = df_cleaned.isnull().sum()\n",
    "print(\"Null values per column:\\n\", null_counts)"
   ]
  },
  {
   "cell_type": "code",
   "execution_count": 23,
   "id": "146e6c2c",
   "metadata": {},
   "outputs": [],
   "source": [
    "import os\n",
    "from dotenv import load_dotenv\n",
    "from sqlalchemy import create_engine\n",
    "\n",
    "# Load variables from .env\n",
    "load_dotenv() \n",
    "\n",
    "# Access credentials\n",
    "DB_USER = os.getenv(\"DB_USER\")\n",
    "DB_PASSWORD = os.getenv(\"DB_PASSWORD\")\n",
    "DB_HOST = os.getenv(\"DB_HOST\")\n",
    "DB_PORT = os.getenv(\"DB_PORT\")\n",
    "DB_NAME = os.getenv(\"DB_NAME\")\n",
    "\n",
    "# Create connection string\n",
    "conn_string = f\"postgresql+psycopg2://{DB_USER}:{DB_PASSWORD}@{DB_HOST}:{DB_PORT}/{DB_NAME}\"\n",
    "engine = create_engine(conn_string)"
   ]
  },
  {
   "cell_type": "code",
   "execution_count": 24,
   "id": "117327de",
   "metadata": {},
   "outputs": [
    {
     "data": {
      "text/plain": [
       "36"
      ]
     },
     "execution_count": 24,
     "metadata": {},
     "output_type": "execute_result"
    }
   ],
   "source": [
    "#pushing the data to the database(PostgreSQL)\n",
    "df_cleaned.to_sql(\"products\", engine, if_exists=\"replace\", index=False)"
   ]
  },
  {
   "cell_type": "code",
   "execution_count": null,
   "id": "e74d1591",
   "metadata": {},
   "outputs": [],
   "source": []
  }
 ],
 "metadata": {
  "kernelspec": {
   "display_name": "myvenv",
   "language": "python",
   "name": "python3"
  },
  "language_info": {
   "codemirror_mode": {
    "name": "ipython",
    "version": 3
   },
   "file_extension": ".py",
   "mimetype": "text/x-python",
   "name": "python",
   "nbconvert_exporter": "python",
   "pygments_lexer": "ipython3",
   "version": "3.12.9"
  }
 },
 "nbformat": 4,
 "nbformat_minor": 5
}
